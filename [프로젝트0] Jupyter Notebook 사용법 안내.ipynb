{
 "cells": [
  {
   "cell_type": "markdown",
   "metadata": {},
   "source": [
    "# [프로젝트0] Jupyter Notebook 사용법 안내\n",
    "\n"
   ]
  },
  {
   "cell_type": "markdown",
   "metadata": {},
   "source": [
    "---"
   ]
  },
  {
   "cell_type": "markdown",
   "metadata": {},
   "source": [
    "## 프로젝트 목표\n",
    "---\n",
    "- Jupyter Notebook 실습 환경 이해하기\n",
    "- 셀과 ipynb 파일 다뤄보기 "
   ]
  },
  {
   "cell_type": "markdown",
   "metadata": {},
   "source": [
    "## 프로젝트 목차\n",
    "---\n",
    "\n",
    "1. **Jupyter Notebook 소개:** Jupyter Notebook과 셀 모드에 대해 학습합니다.<br>\n",
    "2. **Jupyter Notebook 사용 방법:** 실습 파일과 셀을 다루는 방법에 대해 학습합니다.<br>\n",
    "3. **추가로 알면 좋은 기능:** 추가로 사용할 수 있는 단축키에 대해 학습합니다. <br> \n"
   ]
  },
  {
   "cell_type": "markdown",
   "metadata": {},
   "source": [
    "## 프로젝트 개요\n",
    "---\n",
    "앞으로 진행될 프로젝트는 Jupyter Notebook 실습 환경을 사용합니다.   \n",
    "본 실습 파일을 통해 기본적인 실습 환경 사용 방법을 학습해봅니다."
   ]
  },
  {
   "cell_type": "markdown",
   "metadata": {},
   "source": [
    "## 1. Jupyter Notebook 소개"
   ]
  },
  {
   "cell_type": "markdown",
   "metadata": {},
   "source": [
    "### 1-1. Jupyter Notebook이란?"
   ]
  },
  {
   "cell_type": "markdown",
   "metadata": {},
   "source": [
    "**Jupyter Notebook**이란,웹 브라우저에서 코드를 작성하고 실행해볼 수 있는 오픈 소스 소프트웨어입니다.\n",
    "\n",
    "\n",
    "Jupyter Notebook은 셀 단위로 실행이 가능하다는 장점을 가지고 있기 때문에<br>\n",
    "결과를 바로 확인할 수 있는 데이터 분석, 머신러닝, 딥러닝 등의 인공지능 코드 실행을 위해 주로 사용됩니다."
   ]
  },
  {
   "cell_type": "markdown",
   "metadata": {},
   "source": [
    "### 1-2. 셀 모드"
   ]
  },
  {
   "cell_type": "markdown",
   "metadata": {},
   "source": [
    "Jupyter Notebook에서는 **입력 모드와 명령 모드**, 두 가지 모드를 주로 사용합니다."
   ]
  },
  {
   "cell_type": "markdown",
   "metadata": {},
   "source": [
    "#### 입력 모드\n",
    "\n",
    "셀 옆에 초록색으로 표시되며, 셀 내부에 코드 혹은 텍스트를 작성하기 위한 모드입니다.    \n",
    "상단바 혹은 키보드 `Esc` 를 눌러 명령 모드로 전환할 수 있습니다.  \n",
    "\n",
    "![입력 모드](./image/cell_mode_1.png)"
   ]
  },
  {
   "cell_type": "markdown",
   "metadata": {},
   "source": [
    "#### 명령 모드\n",
    "셀 옆에 파란색으로 표시되며, 단축키 실행 등의 명령을 수행하기 위한 모드입니다.   \n",
    "상단바 혹은 키보드 `Enter`를 눌러 입력 모드로 전환할 수 있습니다.\n",
    "![명령 모드](./image/cell_mode_2.png)"
   ]
  },
  {
   "cell_type": "markdown",
   "metadata": {},
   "source": [
    "### 1-3. 셀 모드 전환 방법"
   ]
  },
  {
   "cell_type": "markdown",
   "metadata": {},
   "source": [
    "#### 상단바 이용\n",
    "셀 모드를 변경하기 위해서는 상단바의 `Cell` -> `Cell Type`을 클릭하여 원하는 모드로 전환할 수 있습니다. "
   ]
  },
  {
   "cell_type": "markdown",
   "metadata": {},
   "source": [
    "#### 모드 클릭\n",
    "혹은 아래와 같이 원하는 모드를 클릭하여 변경할 수 있습니다. \n",
    "![모드 전환](./image/mode_change.png)"
   ]
  },
  {
   "cell_type": "markdown",
   "metadata": {},
   "source": [
    "#### 단축키 사용\n",
    "\n",
    "하지만 가장 간단한 방법은 명령 모드에서의 단축키 사용입니다.   \n",
    "\n",
    "- 마크다운 셀로 변경   \n",
    "명령 모드에서 키보드 `m` 을 누르면 **마크다운 셀**로 변경 가능\n",
    "\n",
    "\n",
    "- 코드 셀로 변경   \n",
    "명령 모드에서 키보드 `y` 를 누르면 **코드 셀**로 변경 가능  "
   ]
  },
  {
   "cell_type": "markdown",
   "metadata": {},
   "source": [
    "---"
   ]
  },
  {
   "cell_type": "markdown",
   "metadata": {},
   "source": [
    "## 2. Jupyter Notebook 사용 방법\n",
    "\n",
    "### 2-1. 실습 파일 열기"
   ]
  },
  {
   "cell_type": "markdown",
   "metadata": {},
   "source": [
    "1. 먼저 수업 목록에서 학습하고자 하는 실습을 클릭합니다.\n",
    "    \n",
    "    ![image.png](./image/notebook_1.png)"
   ]
  },
  {
   "cell_type": "markdown",
   "metadata": {},
   "source": [
    "2. 실습 파일이 존재하는지 확인하고, 해당 파일을 클릭합니다.\n",
    "\n",
    "![image.png](./image/notebook_2.png)"
   ]
  },
  {
   "cell_type": "markdown",
   "metadata": {},
   "source": [
    "3. 파일이 열렸는지 확인합니다."
   ]
  },
  {
   "cell_type": "markdown",
   "metadata": {},
   "source": [
    "### 2-2. 실습 파일 실행\n",
    "실습 파일을 성공적으로 열었다면, 파일 내의 코드를 실행하는 방법을 알아보겠습니다.\n",
    "\n",
    "#### 셀의 종류\n",
    "셀의 종류는 코드를 입력하고 실행할 수 있는 **코드 셀**과 다양한 설명, 이미지를 첨부할 수 있는 **마크다운 셀**로 구성되어 있습니다."
   ]
  },
  {
   "cell_type": "markdown",
   "metadata": {},
   "source": [
    "##### 코드 셀\n",
    "\n",
    "코드 셀에서는 코드 입력과 코드가 입력된 셀 실행을 통한 결과 확인이 가능합니다.   \n",
    "코드 실행 결과는 코드 셀 바로 아래에 출력됩니다.\n",
    "\n",
    "또한, 코드에 대한 간단한 설명을 적고 싶을 때는 마크다운 셀 대신 코드 셀 내부에 주석으로 적기도 합니다.   \n",
    "간단한 주석은 `#` 으로, 긴 주석은 `\"\"\"` 으로 작성할 수 있습니다."
   ]
  },
  {
   "cell_type": "code",
   "execution_count": null,
   "metadata": {},
   "outputs": [],
   "source": [
    "# Code 셀입니다. \n",
    "# Code 셀안에 간단한 설명을 적고 싶을 때는 #으로 주석을 적습니다.\n",
    "\n",
    "\"\"\"\n",
    "긴 내용의 주석을 적을 때는 이와 같이 작성할 수 있습니다.\n",
    "\"\"\"\n",
    "\n",
    "print(\"Hello Jupyter notebook!\")"
   ]
  },
  {
   "cell_type": "markdown",
   "metadata": {},
   "source": [
    "##### 마크다운 셀\n",
    "\n",
    "마크다운 셀에서는 코드에 대한 긴 설명, 결과에 대한 자세한 설명 등 이미지, 영상, 링크 추가와 같은 다양한 자료를 활용할 수 있습니다."
   ]
  },
  {
   "cell_type": "markdown",
   "metadata": {},
   "source": [
    "- 마크다운 셀입니다. <br>\n",
    "다양한 마크다운 문법을 사용할 수 있으며 다양한 이미지도 첨부할 수 있습니다."
   ]
  },
  {
   "cell_type": "markdown",
   "metadata": {},
   "source": [
    "#### 셀 단위로 실행하기\n",
    "\n",
    "Jupyter Notebook의 최대 장점인 셀 단위로 실행하는 방법을 알아보겠습니다.   \n",
    "셀 단위로 실행하기 위해서는 먼저 실행을 원하는 셀을 선택합니다.   \n",
    "\n",
    "선택된 셀은 셀 왼쪽 표시를 통해 알 수 있습니다.   \n",
    "상단 바의 `Cell` -> `Run Cells` 클릭 시 선택된 해당 셀이 실행됩니다. "
   ]
  },
  {
   "cell_type": "code",
   "execution_count": null,
   "metadata": {},
   "outputs": [],
   "source": [
    "print(\"상단바를 이용해 실행해보세요!\")"
   ]
  },
  {
   "cell_type": "markdown",
   "metadata": {},
   "source": [
    "실행이 완료되면 왼쪽 **In[1]** 과 같이 실행된 셀의 순서를 나타내는 숫자가 표현됩니다. 1은 첫 번째로 실행된 셀이라는 의미입니다."
   ]
  },
  {
   "cell_type": "markdown",
   "metadata": {},
   "source": [
    "\n",
    "셀 실행 시 가장 많이 사용되는 방법은 바로 단축키를 사용한 방법입니다.\n",
    "\n",
    "**단축키를 활용한 실행 방법**\n",
    "\n",
    "- `Shift` + `Enter` : 선택된 셀 실행 + 다음 셀 선택(다음 셀이 없을 경우 새로운 셀을 생성합니다.)\n",
    "\n",
    "- `Ctrl` + `Enter` : 선택된 셀 실행"
   ]
  },
  {
   "cell_type": "code",
   "execution_count": null,
   "metadata": {},
   "outputs": [],
   "source": [
    "# 단축키를 이용해 실행해보세요!\n",
    "for i in range(3):\n",
    "    print(\"편리한 단축키!\")"
   ]
  },
  {
   "cell_type": "markdown",
   "metadata": {},
   "source": [
    "#### 전체 셀 한번에 실행하기\n",
    "\n",
    "개별 셀 단위가 아닌 전체 셀을 한번에 실행하고 싶을 때는 상단바의 `Cell` -> `Run All` 을 클릭합니다."
   ]
  },
  {
   "cell_type": "markdown",
   "metadata": {},
   "source": [
    "#### 다양한 실행 방법\n",
    "\n",
    "이 밖에도 다양한 실행 방법이 존재합니다. \n",
    "\n",
    "- 선택된 셀 **이전** 모든 셀 실행(상단바 `Cell` -> `Run All Above`)\n",
    "- 선택된 셀 **이후** 모든 셀 실행(상단바 `Cell` -> `Run All Below`) \n",
    "\n",
    "등 상단바 Cell을 통해 다양한 방법으로 실행해보세요."
   ]
  },
  {
   "cell_type": "markdown",
   "metadata": {},
   "source": [
    "### 2-3. 실습 파일 생성\n",
    "\n",
    "업로드 되어 있는 실습 파일 대신 새로운 실습 파일을 생성하고 싶다면 다음과 같은 방법을 사용할 수 있습니다.\n",
    "\n",
    "1. Jupyter Notebook 실습 홈 화면으로 접속합니다. \n",
    "2. 우측의 `New` -> `Python3` 을 클릭합니다.\n",
    "3. 새롭게 생성된 실습 파일을 확인합니다.\n",
    "\n",
    "![image](./image/notebook_3.png)"
   ]
  },
  {
   "cell_type": "markdown",
   "metadata": {},
   "source": [
    "### 2-4. 실습 파일 저장\n",
    "프로젝트를 수행하며 코드 작성 및 파일 내용을 변경할 경우 주기적으로 저장을 해주어야 합니다.\n",
    "\n",
    "**참고** : Jupyter Notebook에서는 정해진 시간마다 자동 저장(auto save)을 지원합니다. 그러나 안전한 프로젝트 수행을 위해 주기적으로 꼭 저장을 눌러주세요!"
   ]
  },
  {
   "cell_type": "markdown",
   "metadata": {},
   "source": [
    "#### 저장하기\n",
    "\n",
    "1. 상단바의 `File` -> `Save and Checkpoint` 를 클릭합니다. \n",
    "혹은 `Ctrl`+ `s` 단축키를 사용할 수 있습니다.\n",
    "2. 파일 이름 옆 Last Checkpoint를 통해 저장이 잘 이루어졌는지 확인합니다. "
   ]
  },
  {
   "cell_type": "markdown",
   "metadata": {},
   "source": [
    "### 2-5. 실습 파일 초기화\n",
    "업로드 되어 있는 실습 파일에는 프로젝트 개요를 파악할 수 있도록 기본적인 코드(skeleton code)가 제공됩니다. 프로젝트 수행 시, 기존에 주어진 코드가 변경되었을때 초기화하고 싶다면 다음과 같은 방법을 사용할 수 있습니다. 단, 초기화를 진행하면 새로 작성한 코드는 저장되지 않으니 유의하시기 바랍니다.\n",
    "\n",
    "1. Jupyter Notebook 실습 홈 화면으로 접속합니다. \n",
    "2. 우측의 `New` -> `Terminal` 을 클릭합니다.\n",
    "\n",
    "\n",
    "![image](./image/notebook_3.png)\n",
    "\n",
    "3. Terminal에 `find /mnt/elice | xargs rm -r` 명령어를 입력 후 엔터를 누릅니다.\n",
    "4. 우측 상단의 재연결 버튼을 클릭합니다.  \n",
    "\n",
    "![image](./image/jupyter_terminal2.png)\n"
   ]
  },
  {
   "cell_type": "markdown",
   "metadata": {},
   "source": [
    "### 2-6. 셀 추가"
   ]
  },
  {
   "cell_type": "markdown",
   "metadata": {},
   "source": [
    "#### 상단바 Insert\n",
    "\n",
    "\n",
    "셀 추가를 위해서는 상단바의 `Insert` 를 클릭하여 위 혹은 아래에 셀을 추가할 수 있습니다."
   ]
  },
  {
   "cell_type": "markdown",
   "metadata": {},
   "source": [
    "#### + 버튼 클릭\n",
    "\n",
    "혹은 `+` 버튼을 클릭하면 선택된 셀 바로 아래에 새로운 셀이 추가됩니다. \n",
    "![insert_cell](./image/insert_cell_button.png)"
   ]
  },
  {
   "cell_type": "markdown",
   "metadata": {},
   "source": [
    "#### 단축키 사용\n",
    "\n",
    "**단축키**는 명령 모드에서 키보드 `b` 입니다."
   ]
  },
  {
   "cell_type": "markdown",
   "metadata": {},
   "source": [
    "### 2-7. 셀 삭제"
   ]
  },
  {
   "cell_type": "markdown",
   "metadata": {},
   "source": [
    "#### 상단바 Edit\n",
    "\n",
    "셀 삭제를 위해서는 상단바의 `Edit` -> `Delete Cells` 를 클릭합니다.\n",
    "\n",
    "**참고** : 셀 삭제를 취소하고 싶다면, `Undo Delete Cells` 를 클릭하여 취소할 수 있습니다."
   ]
  },
  {
   "cell_type": "markdown",
   "metadata": {},
   "source": [
    "#### 삭제 버튼 클릭\n",
    "\n",
    "혹은 삭제 버튼을 클릭하여 셀을 삭제할 수 있습니다. \n",
    "![image](./image/delete_cell_button.png)"
   ]
  },
  {
   "cell_type": "markdown",
   "metadata": {},
   "source": [
    "#### 단축키 사용\n",
    "\n",
    "단축키는 명령 모드에서 `dd` 입니다."
   ]
  },
  {
   "cell_type": "markdown",
   "metadata": {},
   "source": [
    "### 2-8. 셀 단축키 모음"
   ]
  },
  {
   "cell_type": "markdown",
   "metadata": {},
   "source": [
    "1. `Ctrl`+`Enter` : 해당 셀을 실행\n",
    "1. `Shift`+`Enter`: 해당 셀을 실행하고 다음 셀로 넘어감\n",
    "1. `esc` : *command mode* 로 들어감\n",
    "1. `a` : 해당 셀 윗부분에 하나의 셀을 추가함\n",
    "1. `b` : 해당 셀 아랫부분에 하나의 셀을 추가함\n",
    "1. `dd` : 해당 셀을 지움\n",
    "1. `m` : 해당 셀을 Markdown 작성을 위한 셀로 변환함\n",
    "1. `y` : 해당 셀을 Code 작성을 위한 셀로 변환함 "
   ]
  },
  {
   "cell_type": "markdown",
   "metadata": {},
   "source": [
    "---"
   ]
  },
  {
   "cell_type": "markdown",
   "metadata": {},
   "source": [
    "## 3. 추가로 알면 좋은 기능"
   ]
  },
  {
   "cell_type": "markdown",
   "metadata": {},
   "source": [
    "### 3-1. 단축키\n",
    "\n",
    "다양한 단축키를 이용하면 Jupyter Notebook 사용이 더 편리해집니다.\n",
    "\n",
    "- 상단바의 `Help` -> `Keyboard Shortcuts` 를 클릭하면 다양한 단축키를 알 수 있습니다.\n",
    "\n",
    "- 상단바의 `Help` -> `Edit Keyboard Shortcuts` 를 클릭하면 기존 단축키를 더 편리하게 편집할 수 있습니다.\n",
    "\n",
    "\n",
    "### 3-2. 더 알아보기\n",
    "\n",
    "Jupyter Notebook에 대해 더 알아보고 싶다면, [공식 홈페이지](https://jupyter-notebook.readthedocs.io/en/stable/examples/Notebook/examples_index.html)를 참고해주세요!"
   ]
  }
 ],
 "metadata": {
  "kernelspec": {
   "display_name": "Python 3",
   "language": "python",
   "name": "python3"
  },
  "language_info": {
   "codemirror_mode": {
    "name": "ipython",
    "version": 3
   },
   "file_extension": ".py",
   "mimetype": "text/x-python",
   "name": "python",
   "nbconvert_exporter": "python",
   "pygments_lexer": "ipython3",
   "version": "3.8.6"
  }
 },
 "nbformat": 4,
 "nbformat_minor": 2
}
